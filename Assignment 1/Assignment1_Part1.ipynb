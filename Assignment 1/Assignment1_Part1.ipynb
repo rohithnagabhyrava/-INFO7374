{
  "nbformat": 4,
  "nbformat_minor": 0,
  "metadata": {
    "colab": {
      "name": "Assignment1 Part1.ipynb",
      "version": "0.3.2",
      "provenance": [],
      "collapsed_sections": [],
      "include_colab_link": true
    },
    "kernelspec": {
      "name": "python3",
      "display_name": "Python 3"
    },
    "accelerator": "GPU"
  },
  "cells": [
    {
      "cell_type": "markdown",
      "metadata": {
        "id": "view-in-github",
        "colab_type": "text"
      },
      "source": [
        "<a href=\"https://colab.research.google.com/github/rohithnagabhyrava/INFO7374/blob/master/Assignment%201/Assignment1_Part1.ipynb\" target=\"_parent\"><img src=\"https://colab.research.google.com/assets/colab-badge.svg\" alt=\"Open In Colab\"/></a>"
      ]
    },
    {
      "metadata": {
        "id": "wuiEa9nYkKRG",
        "colab_type": "text"
      },
      "cell_type": "markdown",
      "source": [
        "**Using Keras, build a MLP to classify the CIFAR-10 dataset. Note that each record is of size\n",
        "1*3072. Starting with the MNIST example code, build a MLP to classify the data into the 10\n",
        "classes.**\n",
        "\n",
        "Modify the following parameters and discuss the effect of changing parameters on loss and\n",
        "accuracy.\n",
        "1. No of epochs\n",
        "2. Batch size\n",
        "3. Network configuration\n",
        "a. Number of neurons in a layer\n",
        "b. Number of layers\n",
        "4. Learning rate\n",
        "5. Activation functions\n",
        "6. Dropout rates"
      ]
    },
    {
      "metadata": {
        "id": "hTjU2ZkTQcE7",
        "colab_type": "code",
        "colab": {}
      },
      "cell_type": "code",
      "source": [
        "import pandas as pd\n",
        "import numpy as np\n",
        "import matplotlib.pyplot as plt\n",
        "%matplotlib inline\n",
        "from IPython.core.interactiveshell import InteractiveShell\n",
        "InteractiveShell.ast_node_interactivity = \"all\"\n",
        "from keras.datasets import cifar10"
      ],
      "execution_count": 0,
      "outputs": []
    },
    {
      "metadata": {
        "id": "kL4PN7QFQlFo",
        "colab_type": "code",
        "colab": {}
      },
      "cell_type": "code",
      "source": [
        "# Load train and test data\n",
        "(x_train, y_train), (x_test, y_test) = cifar10.load_data()"
      ],
      "execution_count": 0,
      "outputs": []
    },
    {
      "metadata": {
        "id": "M-9rfxSOQrMF",
        "colab_type": "text"
      },
      "cell_type": "markdown",
      "source": [
        "## Looking into the data"
      ]
    },
    {
      "metadata": {
        "id": "gavYh-WpQoAw",
        "colab_type": "code",
        "outputId": "5a20ec9c-0a02-4460-af5a-9199ecb55334",
        "colab": {
          "base_uri": "https://localhost:8080/",
          "height": 84
        }
      },
      "cell_type": "code",
      "source": [
        "print(\"train_images.shape: {}\\ntrain_labels.shape: {}\\ntest_images.shape: {}\\ntest_labels.shape: {}\"\n",
        "      .format(x_train.shape,y_train.shape,x_test.shape,y_test.shape))"
      ],
      "execution_count": 0,
      "outputs": [
        {
          "output_type": "stream",
          "text": [
            "train_images.shape: (50000, 32, 32, 3)\n",
            "train_labels.shape: (50000, 1)\n",
            "test_images.shape: (10000, 32, 32, 3)\n",
            "test_labels.shape: (10000, 1)\n"
          ],
          "name": "stdout"
        }
      ]
    },
    {
      "metadata": {
        "id": "k0O7dgpuVkMq",
        "colab_type": "text"
      },
      "cell_type": "markdown",
      "source": [
        "## Processing and Normalizing the data"
      ]
    },
    {
      "metadata": {
        "id": "cFvsMuoQS4mD",
        "colab_type": "code",
        "outputId": "3ac440ac-f16b-4e03-9a75-7a4248618995",
        "colab": {
          "base_uri": "https://localhost:8080/",
          "height": 84
        }
      },
      "cell_type": "code",
      "source": [
        "num_pixels = x_train.shape[1]*x_train.shape[2]*x_train.shape[3]\n",
        "#num_pixels\n",
        "\n",
        "from keras.utils.np_utils import to_categorical\n",
        "train_images = x_train.reshape(len(x_train), num_pixels).astype(\"float32\")/255 # Reshaping and normalizing the data\n",
        "test_images = x_test.reshape(len(x_test),num_pixels).astype(\"float32\")/255\n",
        "train_labels = to_categorical(y_train) # Converting the labels into an array of 10 dimension\n",
        "test_labels = to_categorical(y_test)\n",
        "\n",
        "print(\"train_images.shape: {}\\ntrain_labels.shape: {}\\ntest_images.shape: {}\\ntest_labels.shape: {}\".format(train_images.shape,train_labels.shape,test_images.shape,test_labels.shape))\n"
      ],
      "execution_count": 0,
      "outputs": [
        {
          "output_type": "stream",
          "text": [
            "train_images.shape: (50000, 3072)\n",
            "train_labels.shape: (50000, 10)\n",
            "test_images.shape: (10000, 3072)\n",
            "test_labels.shape: (10000, 10)\n"
          ],
          "name": "stdout"
        }
      ]
    },
    {
      "metadata": {
        "id": "TVcZBf22VURS",
        "colab_type": "code",
        "colab": {}
      },
      "cell_type": "code",
      "source": [
        "num_classes = train_labels.shape[1]"
      ],
      "execution_count": 0,
      "outputs": []
    },
    {
      "metadata": {
        "id": "n6oXrBRtsGsZ",
        "colab_type": "text"
      },
      "cell_type": "markdown",
      "source": [
        "##  Define the Model"
      ]
    },
    {
      "metadata": {
        "id": "2iGZA_ILYiio",
        "colab_type": "code",
        "outputId": "c4cec124-9fa9-44d2-daf1-349319198b5e",
        "colab": {
          "base_uri": "https://localhost:8080/",
          "height": 302
        }
      },
      "cell_type": "code",
      "source": [
        "from keras import Sequential\n",
        "from keras.layers import Dense, Dropout, Activation, Flatten\n",
        "from keras import optimizers\n",
        "n_epochs = 100 #int(input(print('Enter number of Epochs:')))\n",
        "batch_size = 500 #int(input(print('Enter number of batch_size')))\n",
        "\n",
        "\n",
        "model = Sequential()\n",
        "model.add(Dense(num_pixels, input_dim= num_pixels, activation = \"relu\"))\n",
        "model.add(Dropout(0.5))\n",
        "model.add(Dense(int(num_pixels/3), activation = \"relu\"))\n",
        "model.add(Dropout(0.5))\n",
        "model.add(Dense(num_classes, activation = \"softmax\"))\n",
        "sgd = optimizers.SGD(lr=0.01, nesterov=True)\n",
        "model.summary()"
      ],
      "execution_count": 0,
      "outputs": [
        {
          "output_type": "stream",
          "text": [
            "_________________________________________________________________\n",
            "Layer (type)                 Output Shape              Param #   \n",
            "=================================================================\n",
            "dense_41 (Dense)             (None, 3072)              9440256   \n",
            "_________________________________________________________________\n",
            "dropout_5 (Dropout)          (None, 3072)              0         \n",
            "_________________________________________________________________\n",
            "dense_42 (Dense)             (None, 1024)              3146752   \n",
            "_________________________________________________________________\n",
            "dropout_6 (Dropout)          (None, 1024)              0         \n",
            "_________________________________________________________________\n",
            "dense_43 (Dense)             (None, 10)                10250     \n",
            "=================================================================\n",
            "Total params: 12,597,258\n",
            "Trainable params: 12,597,258\n",
            "Non-trainable params: 0\n",
            "_________________________________________________________________\n"
          ],
          "name": "stdout"
        }
      ]
    },
    {
      "metadata": {
        "id": "hT7PmJ7PsLMB",
        "colab_type": "code",
        "outputId": "11564464-6bfd-4556-db80-cd8bb2b486ad",
        "colab": {
          "base_uri": "https://localhost:8080/",
          "height": 302
        }
      },
      "cell_type": "code",
      "source": [
        "model.compile(loss='categorical_crossentropy',\n",
        "                 metrics=['accuracy'],optimizer=sgd)\n",
        "model.summary()"
      ],
      "execution_count": 0,
      "outputs": [
        {
          "output_type": "stream",
          "text": [
            "_________________________________________________________________\n",
            "Layer (type)                 Output Shape              Param #   \n",
            "=================================================================\n",
            "dense_41 (Dense)             (None, 3072)              9440256   \n",
            "_________________________________________________________________\n",
            "dropout_5 (Dropout)          (None, 3072)              0         \n",
            "_________________________________________________________________\n",
            "dense_42 (Dense)             (None, 1024)              3146752   \n",
            "_________________________________________________________________\n",
            "dropout_6 (Dropout)          (None, 1024)              0         \n",
            "_________________________________________________________________\n",
            "dense_43 (Dense)             (None, 10)                10250     \n",
            "=================================================================\n",
            "Total params: 12,597,258\n",
            "Trainable params: 12,597,258\n",
            "Non-trainable params: 0\n",
            "_________________________________________________________________\n"
          ],
          "name": "stdout"
        }
      ]
    },
    {
      "metadata": {
        "id": "4tOZhTVCs7Lm",
        "colab_type": "code",
        "outputId": "0f61b884-05b1-420c-8b13-ffd910941282",
        "colab": {
          "base_uri": "https://localhost:8080/",
          "height": 1747
        }
      },
      "cell_type": "code",
      "source": [
        " history = model.fit(train_images, train_labels,\n",
        "                        batch_size=batch_size,\n",
        "                        epochs=50,\n",
        "                        verbose=1,\n",
        "                        validation_data=(test_images, test_labels))\n",
        "\n",
        "loss, acc = model.evaluate(test_images, test_labels, verbose=0)\n",
        "print('Test loss:', loss)\n",
        "print('Test acc:', acc)"
      ],
      "execution_count": 0,
      "outputs": [
        {
          "output_type": "stream",
          "text": [
            "Train on 50000 samples, validate on 10000 samples\n",
            "Epoch 1/50\n",
            "50000/50000 [==============================] - 4s 80us/step - loss: 2.2587 - acc: 0.1750 - val_loss: 2.0171 - val_acc: 0.2926\n",
            "Epoch 2/50\n",
            "50000/50000 [==============================] - 3s 56us/step - loss: 2.0557 - acc: 0.2529 - val_loss: 1.9222 - val_acc: 0.3327\n",
            "Epoch 3/50\n",
            "50000/50000 [==============================] - 3s 56us/step - loss: 1.9817 - acc: 0.2841 - val_loss: 1.8728 - val_acc: 0.3465\n",
            "Epoch 4/50\n",
            "50000/50000 [==============================] - 3s 56us/step - loss: 1.9305 - acc: 0.3074 - val_loss: 1.8430 - val_acc: 0.3565\n",
            "Epoch 5/50\n",
            "50000/50000 [==============================] - 3s 56us/step - loss: 1.9021 - acc: 0.3203 - val_loss: 1.8162 - val_acc: 0.3666\n",
            "Epoch 6/50\n",
            "50000/50000 [==============================] - 3s 56us/step - loss: 1.8723 - acc: 0.3328 - val_loss: 1.7890 - val_acc: 0.3789\n",
            "Epoch 7/50\n",
            "50000/50000 [==============================] - 3s 56us/step - loss: 1.8510 - acc: 0.3398 - val_loss: 1.7714 - val_acc: 0.3819\n",
            "Epoch 8/50\n",
            "50000/50000 [==============================] - 3s 56us/step - loss: 1.8304 - acc: 0.3486 - val_loss: 1.7516 - val_acc: 0.3863\n",
            "Epoch 9/50\n",
            "50000/50000 [==============================] - 3s 55us/step - loss: 1.8121 - acc: 0.3563 - val_loss: 1.7311 - val_acc: 0.3965\n",
            "Epoch 10/50\n",
            "50000/50000 [==============================] - 3s 56us/step - loss: 1.7982 - acc: 0.3663 - val_loss: 1.7204 - val_acc: 0.3980\n",
            "Epoch 11/50\n",
            "50000/50000 [==============================] - 3s 56us/step - loss: 1.7806 - acc: 0.3701 - val_loss: 1.7093 - val_acc: 0.4036\n",
            "Epoch 12/50\n",
            "50000/50000 [==============================] - 3s 56us/step - loss: 1.7688 - acc: 0.3775 - val_loss: 1.6898 - val_acc: 0.4107\n",
            "Epoch 13/50\n",
            "50000/50000 [==============================] - 3s 56us/step - loss: 1.7565 - acc: 0.3796 - val_loss: 1.6804 - val_acc: 0.4102\n",
            "Epoch 14/50\n",
            "50000/50000 [==============================] - 3s 56us/step - loss: 1.7440 - acc: 0.3844 - val_loss: 1.6701 - val_acc: 0.4144\n",
            "Epoch 15/50\n",
            "50000/50000 [==============================] - 3s 56us/step - loss: 1.7342 - acc: 0.3865 - val_loss: 1.6579 - val_acc: 0.4242\n",
            "Epoch 16/50\n",
            "50000/50000 [==============================] - 3s 57us/step - loss: 1.7230 - acc: 0.3922 - val_loss: 1.6486 - val_acc: 0.4232\n",
            "Epoch 17/50\n",
            "50000/50000 [==============================] - 3s 56us/step - loss: 1.7154 - acc: 0.3929 - val_loss: 1.6373 - val_acc: 0.4269\n",
            "Epoch 18/50\n",
            "50000/50000 [==============================] - 3s 56us/step - loss: 1.7052 - acc: 0.3970 - val_loss: 1.6321 - val_acc: 0.4278\n",
            "Epoch 19/50\n",
            "50000/50000 [==============================] - 3s 57us/step - loss: 1.6968 - acc: 0.4011 - val_loss: 1.6220 - val_acc: 0.4363\n",
            "Epoch 20/50\n",
            "50000/50000 [==============================] - 3s 57us/step - loss: 1.6899 - acc: 0.4054 - val_loss: 1.6148 - val_acc: 0.4351\n",
            "Epoch 21/50\n",
            "50000/50000 [==============================] - 3s 56us/step - loss: 1.6799 - acc: 0.4067 - val_loss: 1.6048 - val_acc: 0.4405\n",
            "Epoch 22/50\n",
            "50000/50000 [==============================] - 3s 56us/step - loss: 1.6691 - acc: 0.4125 - val_loss: 1.6014 - val_acc: 0.4407\n",
            "Epoch 23/50\n",
            "50000/50000 [==============================] - 3s 57us/step - loss: 1.6608 - acc: 0.4133 - val_loss: 1.5928 - val_acc: 0.4425\n",
            "Epoch 24/50\n",
            "50000/50000 [==============================] - 3s 56us/step - loss: 1.6557 - acc: 0.4162 - val_loss: 1.5884 - val_acc: 0.4470\n",
            "Epoch 25/50\n",
            "50000/50000 [==============================] - 3s 56us/step - loss: 1.6491 - acc: 0.4190 - val_loss: 1.5801 - val_acc: 0.4490\n",
            "Epoch 26/50\n",
            "50000/50000 [==============================] - 3s 56us/step - loss: 1.6396 - acc: 0.4201 - val_loss: 1.5768 - val_acc: 0.4475\n",
            "Epoch 27/50\n",
            "50000/50000 [==============================] - 3s 56us/step - loss: 1.6329 - acc: 0.4240 - val_loss: 1.5678 - val_acc: 0.4507\n",
            "Epoch 28/50\n",
            "50000/50000 [==============================] - 3s 55us/step - loss: 1.6283 - acc: 0.4258 - val_loss: 1.5618 - val_acc: 0.4499\n",
            "Epoch 29/50\n",
            "50000/50000 [==============================] - 3s 56us/step - loss: 1.6262 - acc: 0.4288 - val_loss: 1.5645 - val_acc: 0.4524\n",
            "Epoch 30/50\n",
            "50000/50000 [==============================] - 3s 56us/step - loss: 1.6153 - acc: 0.4329 - val_loss: 1.5534 - val_acc: 0.4550\n",
            "Epoch 31/50\n",
            "50000/50000 [==============================] - 3s 56us/step - loss: 1.6105 - acc: 0.4328 - val_loss: 1.5444 - val_acc: 0.4599\n",
            "Epoch 32/50\n",
            "50000/50000 [==============================] - 3s 57us/step - loss: 1.6034 - acc: 0.4358 - val_loss: 1.5431 - val_acc: 0.4589\n",
            "Epoch 33/50\n",
            "50000/50000 [==============================] - 3s 57us/step - loss: 1.6003 - acc: 0.4356 - val_loss: 1.5343 - val_acc: 0.4584\n",
            "Epoch 34/50\n",
            "50000/50000 [==============================] - 3s 57us/step - loss: 1.5922 - acc: 0.4409 - val_loss: 1.5317 - val_acc: 0.4615\n",
            "Epoch 35/50\n",
            "50000/50000 [==============================] - 3s 56us/step - loss: 1.5876 - acc: 0.4436 - val_loss: 1.5327 - val_acc: 0.4587\n",
            "Epoch 36/50\n",
            "50000/50000 [==============================] - 3s 56us/step - loss: 1.5812 - acc: 0.4437 - val_loss: 1.5196 - val_acc: 0.4696\n",
            "Epoch 37/50\n",
            "50000/50000 [==============================] - 3s 55us/step - loss: 1.5774 - acc: 0.4453 - val_loss: 1.5200 - val_acc: 0.4666\n",
            "Epoch 38/50\n",
            "50000/50000 [==============================] - 3s 56us/step - loss: 1.5735 - acc: 0.4508 - val_loss: 1.5161 - val_acc: 0.4669\n",
            "Epoch 39/50\n",
            "50000/50000 [==============================] - 3s 55us/step - loss: 1.5688 - acc: 0.4476 - val_loss: 1.5087 - val_acc: 0.4680\n",
            "Epoch 40/50\n",
            "50000/50000 [==============================] - 3s 55us/step - loss: 1.5629 - acc: 0.4488 - val_loss: 1.5078 - val_acc: 0.4688\n",
            "Epoch 41/50\n",
            "50000/50000 [==============================] - 3s 56us/step - loss: 1.5589 - acc: 0.4533 - val_loss: 1.5047 - val_acc: 0.4709\n",
            "Epoch 42/50\n",
            "50000/50000 [==============================] - 3s 55us/step - loss: 1.5551 - acc: 0.4504 - val_loss: 1.4949 - val_acc: 0.4739\n",
            "Epoch 43/50\n",
            "50000/50000 [==============================] - 3s 56us/step - loss: 1.5489 - acc: 0.4569 - val_loss: 1.4935 - val_acc: 0.4771\n",
            "Epoch 44/50\n",
            "50000/50000 [==============================] - 3s 56us/step - loss: 1.5412 - acc: 0.4611 - val_loss: 1.4908 - val_acc: 0.4755\n",
            "Epoch 45/50\n",
            "50000/50000 [==============================] - 3s 56us/step - loss: 1.5385 - acc: 0.4591 - val_loss: 1.4869 - val_acc: 0.4778\n",
            "Epoch 46/50\n",
            "50000/50000 [==============================] - 3s 56us/step - loss: 1.5345 - acc: 0.4594 - val_loss: 1.4822 - val_acc: 0.4792\n",
            "Epoch 47/50\n",
            "50000/50000 [==============================] - 3s 56us/step - loss: 1.5277 - acc: 0.4630 - val_loss: 1.4775 - val_acc: 0.4789\n",
            "Epoch 48/50\n",
            "50000/50000 [==============================] - 3s 56us/step - loss: 1.5283 - acc: 0.4621 - val_loss: 1.4752 - val_acc: 0.4785\n",
            "Epoch 49/50\n",
            "50000/50000 [==============================] - 3s 56us/step - loss: 1.5222 - acc: 0.4645 - val_loss: 1.4713 - val_acc: 0.4822\n",
            "Epoch 50/50\n",
            "50000/50000 [==============================] - 3s 57us/step - loss: 1.5191 - acc: 0.4673 - val_loss: 1.4737 - val_acc: 0.4813\n",
            "Test loss: 1.473716296195984\n",
            "Test acc: 0.4813\n"
          ],
          "name": "stdout"
        }
      ]
    },
    {
      "metadata": {
        "id": "9sx7zW813jnG",
        "colab_type": "code",
        "outputId": "467c2cd5-e623-4555-91ad-fcf26df0ab33",
        "colab": {
          "base_uri": "https://localhost:8080/",
          "height": 50
        }
      },
      "cell_type": "code",
      "source": [
        "loss, acc = model.evaluate(test_images, test_labels, verbose=0)\n",
        "print('Test loss:', loss)\n",
        "print('Test acc:', acc)"
      ],
      "execution_count": 0,
      "outputs": [
        {
          "output_type": "stream",
          "text": [
            "Test loss: 1.473716296195984\n",
            "Test acc: 0.4813\n"
          ],
          "name": "stdout"
        }
      ]
    },
    {
      "metadata": {
        "id": "qDa9igLp3Hih",
        "colab_type": "code",
        "outputId": "ba52626b-a6dc-4c31-a474-11125ebf8e42",
        "colab": {
          "base_uri": "https://localhost:8080/",
          "height": 334
        }
      },
      "cell_type": "code",
      "source": [
        "# summarize history for accuracy\n",
        "f = plt.figure(figsize=(15, 4))\n",
        "f.add_subplot(1,2, 1)\n",
        "plt.plot(history.history['acc'])\n",
        "plt.plot(history.history['val_acc'])\n",
        "plt.title(\"Model accuracy\\nNumber of epochs: {}, Batch size: {}\\nNo. of layers = 2 \".format(n_epochs,batch_size))\n",
        "plt.ylabel('accuracy')\n",
        "plt.xlabel('epoch\\nTotal = ')\n",
        "plt.legend(['train', 'test'], loc='upper left')\n",
        "# summarize history for loss\n",
        "f.add_subplot(1,2, 2)\n",
        "plt.plot(history.history['loss'])\n",
        "plt.plot(history.history['val_loss'])\n",
        "plt.title('Model loss\\n learning rate: 0.01, Activation Functions: \"Tanh,Relu\"')\n",
        "plt.ylabel('loss')\n",
        "plt.xlabel('epoch')\n",
        "plt.legend(['train', 'test'], loc='upper left')\n",
        "plt.show();"
      ],
      "execution_count": 0,
      "outputs": [
        {
          "output_type": "display_data",
          "data": {
            "image/png": "[encoded data removed]",
            "text/plain": [
              "<Figure size 1080x288 with 2 Axes>"
            ]
          },
          "metadata": {
            "tags": []
          }
        }
      ]
    }
  ]
}