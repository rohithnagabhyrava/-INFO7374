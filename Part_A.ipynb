{
  "nbformat": 4,
  "nbformat_minor": 0,
  "metadata": {
    "colab": {
      "name": "Part A.ipynb",
      "version": "0.3.2",
      "provenance": [],
      "include_colab_link": true
    },
    "kernelspec": {
      "name": "python3",
      "display_name": "Python 3"
    },
    "accelerator": "GPU"
  },
  "cells": [
    {
      "cell_type": "markdown",
      "metadata": {
        "id": "view-in-github",
        "colab_type": "text"
      },
      "source": [
        "<a href=\"https://colab.research.google.com/github/rohithnagabhyrava/INFO7374/blob/master/Part_A.ipynb\" target=\"_parent\"><img src=\"https://colab.research.google.com/assets/colab-badge.svg\" alt=\"Open In Colab\"/></a>"
      ]
    },
    {
      "metadata": {
        "id": "he6B-Nhy9huR",
        "colab_type": "code",
        "outputId": "6074ebd3-9495-41e5-a34f-565a691eba9f",
        "colab": {
          "base_uri": "https://localhost:8080/",
          "height": 34
        }
      },
      "cell_type": "code",
      "source": [
        "from __future__ import print_function\n",
        "import keras\n",
        "from keras.datasets import cifar10\n",
        "from keras.preprocessing.image import ImageDataGenerator\n",
        "from keras.models import Sequential\n",
        "from keras.layers import Dense, Dropout, Activation, Flatten\n",
        "from keras.layers import Conv2D, MaxPooling2D\n",
        "import os\n"
      ],
      "execution_count": 1,
      "outputs": [
        {
          "output_type": "stream",
          "text": [
            "Using TensorFlow backend.\n"
          ],
          "name": "stderr"
        }
      ]
    },
    {
      "metadata": {
        "id": "qQa74nG3-D3R",
        "colab_type": "code",
        "colab": {}
      },
      "cell_type": "code",
      "source": [
        "batch_size = 32\n",
        "num_classes = 10\n",
        "epochs = 100\n",
        "data_augmentation = True\n",
        "num_predictions = 20\n",
        "save_dir = os.path.join(os.getcwd(), 'saved_models')\n",
        "model_name = 'keras_cifar10_trained_model.h5'"
      ],
      "execution_count": 0,
      "outputs": []
    },
    {
      "metadata": {
        "id": "1hW6txjG-LC6",
        "colab_type": "code",
        "outputId": "5344fe06-f931-428d-837d-4e355adf1647",
        "colab": {
          "base_uri": "https://localhost:8080/",
          "height": 67
        }
      },
      "cell_type": "code",
      "source": [
        "# The data, split between train and test sets:\n",
        "(x_train, y_train), (x_test, y_test) = cifar10.load_data()\n",
        "print('x_train shape:', x_train.shape)\n",
        "print(x_train.shape[0], 'train samples')\n",
        "print(x_test.shape[0], 'test samples')\n"
      ],
      "execution_count": 33,
      "outputs": [
        {
          "output_type": "stream",
          "text": [
            "x_train shape: (50000, 32, 32, 3)\n",
            "50000 train samples\n",
            "10000 test samples\n"
          ],
          "name": "stdout"
        }
      ]
    },
    {
      "metadata": {
        "id": "11EYIBpvEFLt",
        "colab_type": "code",
        "colab": {}
      },
      "cell_type": "code",
      "source": [
        "from keras.layers import Layer, Dense\n",
        "from keras import backend as K\n",
        "\n",
        "class DenseK( Layer ) :\n",
        "    def __init__( self, K=3, **kwargs ) :\n",
        "        self.K = K\n",
        "        super( DenseK, self ).__init__( **kwargs )\n",
        "    def build( self, input_shape ) :\n",
        "        feat_dims = input_shape[-1]\n",
        "        assert feat_dims % self.K == 0\n",
        "        self.kernel = self.add_weight(shape=( 1, feat_dims ),\n",
        "                                      initializer='glorot_uniform',\n",
        "                                      name='kernel' )\n",
        "        self.bias = self.add_weight(shape=( 1, feat_dims//self.K ),\n",
        "                                      initializer='zeros',\n",
        "                                      name='bias' )\n",
        "        self.xk_shape = (-1, feat_dims//self.K, self.K )\n",
        "    def call( self, x ) :\n",
        "        # 1. element-wise product between x and kernel\n",
        "        xk = x * self.kernel\n",
        "        # 2. reshape xk, xk.shape = (batch_size, input_feat_dim//3, 3 )\n",
        "        xk = K.reshape( xk, self.xk_shape ) \n",
        "        # 3. compute y for every K elements in xk\n",
        "        y = K.sum( xk, axis=-1, keepdims=False ) + self.bias\n",
        "        return y \n",
        "    def compute_output_shape( self, input_shape ) :\n",
        "        batch_size, feat_dims = input_shape\n",
        "        return ( batch_size, feat_dims//self.K )"
      ],
      "execution_count": 0,
      "outputs": []
    },
    {
      "metadata": {
        "id": "Rwl9dio2-WVe",
        "colab_type": "code",
        "colab": {}
      },
      "cell_type": "code",
      "source": [
        "# initiate RMSprop optimizer\n",
        "opt = keras.optimizers.rmsprop(lr=0.0001, decay=1e-6)"
      ],
      "execution_count": 0,
      "outputs": []
    },
    {
      "metadata": {
        "id": "kD1bDDHb-RZx",
        "colab_type": "code",
        "colab": {}
      },
      "cell_type": "code",
      "source": [
        "from keras.layers import Input\n",
        "# Convert class vectors to binary class matrices.\n",
        "y_train = keras.utils.to_categorical(y_train, num_classes)\n",
        "y_test = keras.utils.to_categorical(y_test, num_classes)\n",
        "\n",
        "model = Sequential()\n",
        "\n",
        "\n",
        "\n",
        "model.add(Conv2D(32, (3, 3), padding='same',\n",
        "                 input_shape=x_train.shape[1:]))\n",
        "##Custom Layer\n",
        "#model.add(DenseK(K=3, name='3-neuron-dense'))\n",
        "##Noise Layer\n",
        "#model.add(keras.layers.GaussianNoise(0.1))\n",
        "model.add(Activation('relu'))\n",
        "#model.add(keras.layers.BatchNormalization())\n",
        "\n",
        "##Batch Normalization Layer\n",
        "#model.add(keras.layers.BatchNormalization(axis=-1, momentum=0.99, epsilon=0.001,\n",
        "                                         # center=True, scale=True, beta_initializer='zeros',\n",
        "                                          #gamma_initializer='ones', moving_mean_initializer='zeros',\n",
        "                                          #moving_variance_initializer='ones', beta_regularizer=None,\n",
        "                                          #gamma_regularizer=None, beta_constraint=None, gamma_constraint=None))\n",
        "model.add(Conv2D(32, (3, 3)))\n",
        "model.add(Activation('relu'))\n",
        "model.add(MaxPooling2D(pool_size=(2, 2)))\n",
        "model.add(Dropout(0.25))\n",
        "\n",
        "model.add(Conv2D(64, (3, 3), padding='same'))\n",
        "model.add(Activation('relu'))\n",
        "model.add(Conv2D(64, (3, 3)))\n",
        "model.add(Activation('relu'))\n",
        "model.add(MaxPooling2D(pool_size=(2, 2)))\n",
        "model.add(Dropout(0.25))\n",
        "\n",
        "model.add(Flatten())\n",
        "model.add(Dense(512))\n",
        "model.add(Activation('relu'))\n",
        "model.add(Dropout(0.5))\n",
        "model.add(Dense(num_classes))\n",
        "\n",
        "model.add(Activation('softmax'))\n",
        "\n"
      ],
      "execution_count": 0,
      "outputs": []
    },
    {
      "metadata": {
        "id": "np4O4k1d-bPh",
        "colab_type": "code",
        "colab": {}
      },
      "cell_type": "code",
      "source": [
        "# Let's train the model using RMSprop\n",
        "model.compile(loss='categorical_crossentropy',\n",
        "              optimizer=opt,\n",
        "              metrics=['accuracy'])"
      ],
      "execution_count": 0,
      "outputs": []
    },
    {
      "metadata": {
        "id": "MC14QpKv-frA",
        "colab_type": "code",
        "colab": {}
      },
      "cell_type": "code",
      "source": [
        "x_train = x_train.astype('float32')\n",
        "x_test = x_test.astype('float32')\n",
        "x_train /= 255\n",
        "x_test /= 255"
      ],
      "execution_count": 0,
      "outputs": []
    },
    {
      "metadata": {
        "id": "sq4d0a51-nF-",
        "colab_type": "code",
        "outputId": "417a1475-bff7-424f-84f7-b671c00f6ac1",
        "colab": {
          "base_uri": "https://localhost:8080/",
          "height": 3394
        }
      },
      "cell_type": "code",
      "source": [
        "if not data_augmentation:\n",
        "    print('Not using data augmentation.')\n",
        "    model.fit(x_train, y_train,\n",
        "              batch_size=batch_size,\n",
        "              epochs=epochs,\n",
        "              validation_data=(x_test, y_test),\n",
        "              shuffle=True)\n",
        "else:\n",
        "    print('Using real-time data augmentation.')\n",
        "    # This will do preprocessing and realtime data augmentation:\n",
        "    datagen = ImageDataGenerator(\n",
        "        featurewise_center=False,  # set input mean to 0 over the dataset\n",
        "        samplewise_center=False,  # set each sample mean to 0\n",
        "        featurewise_std_normalization=False,  # divide inputs by std of the dataset\n",
        "        samplewise_std_normalization=False,  # divide each input by its std\n",
        "        zca_whitening=False,  # apply ZCA whitening\n",
        "        zca_epsilon=1e-06,  # epsilon for ZCA whitening\n",
        "        rotation_range=0,  # randomly rotate images in the range (degrees, 0 to 180)\n",
        "        # randomly shift images horizontally (fraction of total width)\n",
        "        width_shift_range=0.1,\n",
        "        # randomly shift images vertically (fraction of total height)\n",
        "        height_shift_range=0.1,\n",
        "        shear_range=0.,  # set range for random shear\n",
        "        zoom_range=0.,  # set range for random zoom\n",
        "        channel_shift_range=0.,  # set range for random channel shifts\n",
        "        # set mode for filling points outside the input boundaries\n",
        "        fill_mode='nearest',\n",
        "        cval=0.,  # value used for fill_mode = \"constant\"\n",
        "        horizontal_flip=True,  # randomly flip images\n",
        "        vertical_flip=False,  # randomly flip images\n",
        "        # set rescaling factor (applied before any other transformation)\n",
        "        rescale=None,\n",
        "        # set function that will be applied on each input\n",
        "        preprocessing_function=None,\n",
        "        # image data format, either \"channels_first\" or \"channels_last\"\n",
        "        data_format=None,\n",
        "        # fraction of images reserved for validation (strictly between 0 and 1)\n",
        "        validation_split=0.0)\n",
        "\n",
        "    # Compute quantities required for feature-wise normalization\n",
        "    # (std, mean, and principal components if ZCA whitening is applied).\n",
        "    datagen.fit(x_train)\n",
        "\n",
        "    # Fit the model on the batches generated by datagen.flow().\n",
        "    model.fit_generator(datagen.flow(x_train, y_train,\n",
        "                                     batch_size=batch_size),\n",
        "                        epochs=epochs,steps_per_epoch=500,\n",
        "                        validation_data=(x_test, y_test),\n",
        "                        workers=4)"
      ],
      "execution_count": 39,
      "outputs": [
        {
          "output_type": "stream",
          "text": [
            "Using real-time data augmentation.\n",
            "Epoch 1/100\n",
            "500/500 [==============================] - 16s 33ms/step - loss: 2.0410 - acc: 0.2463 - val_loss: 1.7854 - val_acc: 0.3699\n",
            "Epoch 2/100\n",
            "500/500 [==============================] - 15s 31ms/step - loss: 1.7952 - acc: 0.3465 - val_loss: 1.6418 - val_acc: 0.4060\n",
            "Epoch 3/100\n",
            "500/500 [==============================] - 15s 31ms/step - loss: 1.7066 - acc: 0.3704 - val_loss: 1.5468 - val_acc: 0.4398\n",
            "Epoch 4/100\n",
            "500/500 [==============================] - 15s 30ms/step - loss: 1.6219 - acc: 0.4049 - val_loss: 1.4801 - val_acc: 0.4636\n",
            "Epoch 5/100\n",
            "500/500 [==============================] - 15s 30ms/step - loss: 1.5857 - acc: 0.4210 - val_loss: 1.4603 - val_acc: 0.4694\n",
            "Epoch 6/100\n",
            "500/500 [==============================] - 15s 31ms/step - loss: 1.5402 - acc: 0.4394 - val_loss: 1.3791 - val_acc: 0.5030\n",
            "Epoch 7/100\n",
            "500/500 [==============================] - 16s 31ms/step - loss: 1.5107 - acc: 0.4503 - val_loss: 1.3629 - val_acc: 0.5089\n",
            "Epoch 8/100\n",
            "500/500 [==============================] - 16s 31ms/step - loss: 1.4721 - acc: 0.4654 - val_loss: 1.3198 - val_acc: 0.5257\n",
            "Epoch 9/100\n",
            "500/500 [==============================] - 16s 31ms/step - loss: 1.4465 - acc: 0.4762 - val_loss: 1.2958 - val_acc: 0.5323\n",
            "Epoch 10/100\n",
            "500/500 [==============================] - 16s 31ms/step - loss: 1.4045 - acc: 0.4952 - val_loss: 1.2680 - val_acc: 0.5443\n",
            "Epoch 11/100\n",
            "500/500 [==============================] - 15s 30ms/step - loss: 1.4041 - acc: 0.4962 - val_loss: 1.2589 - val_acc: 0.5437\n",
            "Epoch 12/100\n",
            "500/500 [==============================] - 15s 31ms/step - loss: 1.3805 - acc: 0.5065 - val_loss: 1.2316 - val_acc: 0.5586\n",
            "Epoch 13/100\n",
            "500/500 [==============================] - 15s 31ms/step - loss: 1.3468 - acc: 0.5186 - val_loss: 1.2795 - val_acc: 0.5449\n",
            "Epoch 14/100\n",
            "500/500 [==============================] - 16s 31ms/step - loss: 1.3226 - acc: 0.5316 - val_loss: 1.2241 - val_acc: 0.5627\n",
            "Epoch 15/100\n",
            "500/500 [==============================] - 15s 31ms/step - loss: 1.3077 - acc: 0.5294 - val_loss: 1.1535 - val_acc: 0.5918\n",
            "Epoch 16/100\n",
            "500/500 [==============================] - 16s 31ms/step - loss: 1.3066 - acc: 0.5346 - val_loss: 1.2120 - val_acc: 0.5721\n",
            "Epoch 17/100\n",
            "500/500 [==============================] - 16s 31ms/step - loss: 1.2723 - acc: 0.5436 - val_loss: 1.1756 - val_acc: 0.5916\n",
            "Epoch 18/100\n",
            "500/500 [==============================] - 16s 31ms/step - loss: 1.2681 - acc: 0.5498 - val_loss: 1.1392 - val_acc: 0.5966\n",
            "Epoch 19/100\n",
            "500/500 [==============================] - 16s 31ms/step - loss: 1.2522 - acc: 0.5545 - val_loss: 1.1179 - val_acc: 0.6059\n",
            "Epoch 20/100\n",
            "500/500 [==============================] - 16s 31ms/step - loss: 1.2350 - acc: 0.5615 - val_loss: 1.0925 - val_acc: 0.6141\n",
            "Epoch 21/100\n",
            "500/500 [==============================] - 16s 31ms/step - loss: 1.2214 - acc: 0.5630 - val_loss: 1.0854 - val_acc: 0.6160\n",
            "Epoch 22/100\n",
            "500/500 [==============================] - 16s 32ms/step - loss: 1.2061 - acc: 0.5742 - val_loss: 1.0736 - val_acc: 0.6204\n",
            "Epoch 23/100\n",
            "500/500 [==============================] - 16s 32ms/step - loss: 1.1973 - acc: 0.5782 - val_loss: 1.1200 - val_acc: 0.6054\n",
            "Epoch 24/100\n",
            "500/500 [==============================] - 16s 32ms/step - loss: 1.1860 - acc: 0.5816 - val_loss: 1.0889 - val_acc: 0.6133\n",
            "Epoch 25/100\n",
            "500/500 [==============================] - 16s 32ms/step - loss: 1.1675 - acc: 0.5871 - val_loss: 1.0428 - val_acc: 0.6323\n",
            "Epoch 26/100\n",
            "500/500 [==============================] - 16s 32ms/step - loss: 1.1568 - acc: 0.5933 - val_loss: 1.0424 - val_acc: 0.6329\n",
            "Epoch 27/100\n",
            "500/500 [==============================] - 16s 32ms/step - loss: 1.1287 - acc: 0.5978 - val_loss: 1.0093 - val_acc: 0.6436\n",
            "Epoch 28/100\n",
            "500/500 [==============================] - 16s 32ms/step - loss: 1.1426 - acc: 0.5966 - val_loss: 0.9938 - val_acc: 0.6497\n",
            "Epoch 29/100\n",
            "500/500 [==============================] - 16s 33ms/step - loss: 1.1105 - acc: 0.6091 - val_loss: 1.0422 - val_acc: 0.6312\n",
            "Epoch 30/100\n",
            "500/500 [==============================] - 16s 31ms/step - loss: 1.1221 - acc: 0.6026 - val_loss: 1.0184 - val_acc: 0.6445\n",
            "Epoch 31/100\n",
            "500/500 [==============================] - 16s 31ms/step - loss: 1.0966 - acc: 0.6162 - val_loss: 1.0167 - val_acc: 0.6457\n",
            "Epoch 32/100\n",
            "500/500 [==============================] - 16s 32ms/step - loss: 1.1074 - acc: 0.6051 - val_loss: 0.9640 - val_acc: 0.6610\n",
            "Epoch 33/100\n",
            "500/500 [==============================] - 16s 32ms/step - loss: 1.0868 - acc: 0.6162 - val_loss: 0.9905 - val_acc: 0.6483\n",
            "Epoch 34/100\n",
            "500/500 [==============================] - 16s 32ms/step - loss: 1.0772 - acc: 0.6199 - val_loss: 0.9512 - val_acc: 0.6636\n",
            "Epoch 35/100\n",
            "500/500 [==============================] - 17s 33ms/step - loss: 1.0731 - acc: 0.6222 - val_loss: 0.9489 - val_acc: 0.6631\n",
            "Epoch 36/100\n",
            "500/500 [==============================] - 17s 35ms/step - loss: 1.0745 - acc: 0.6212 - val_loss: 0.9240 - val_acc: 0.6771\n",
            "Epoch 37/100\n",
            "500/500 [==============================] - 17s 35ms/step - loss: 1.0449 - acc: 0.6339 - val_loss: 0.9579 - val_acc: 0.6631\n",
            "Epoch 38/100\n",
            "500/500 [==============================] - 17s 34ms/step - loss: 1.0563 - acc: 0.6298 - val_loss: 0.9593 - val_acc: 0.6620\n",
            "Epoch 39/100\n",
            "500/500 [==============================] - 18s 36ms/step - loss: 1.0427 - acc: 0.6331 - val_loss: 1.0022 - val_acc: 0.6582\n",
            "Epoch 40/100\n",
            "500/500 [==============================] - 16s 32ms/step - loss: 1.0300 - acc: 0.6389 - val_loss: 0.9098 - val_acc: 0.6793\n",
            "Epoch 41/100\n",
            "500/500 [==============================] - 15s 31ms/step - loss: 1.0207 - acc: 0.6419 - val_loss: 0.9469 - val_acc: 0.6724\n",
            "Epoch 42/100\n",
            "500/500 [==============================] - 15s 31ms/step - loss: 1.0305 - acc: 0.6375 - val_loss: 0.8747 - val_acc: 0.6938\n",
            "Epoch 43/100\n",
            "500/500 [==============================] - 15s 31ms/step - loss: 1.0214 - acc: 0.6401 - val_loss: 0.8961 - val_acc: 0.6858\n",
            "Epoch 44/100\n",
            "500/500 [==============================] - 15s 31ms/step - loss: 0.9831 - acc: 0.6564 - val_loss: 0.8586 - val_acc: 0.6965\n",
            "Epoch 45/100\n",
            "500/500 [==============================] - 15s 31ms/step - loss: 0.9949 - acc: 0.6541 - val_loss: 0.8617 - val_acc: 0.6972\n",
            "Epoch 46/100\n",
            "500/500 [==============================] - 15s 31ms/step - loss: 0.9852 - acc: 0.6551 - val_loss: 0.8759 - val_acc: 0.6974\n",
            "Epoch 47/100\n",
            "500/500 [==============================] - 16s 31ms/step - loss: 1.0005 - acc: 0.6497 - val_loss: 0.9344 - val_acc: 0.6709\n",
            "Epoch 48/100\n",
            "500/500 [==============================] - 16s 31ms/step - loss: 0.9834 - acc: 0.6528 - val_loss: 0.8529 - val_acc: 0.7014\n",
            "Epoch 49/100\n",
            "500/500 [==============================] - 15s 31ms/step - loss: 0.9674 - acc: 0.6608 - val_loss: 0.8786 - val_acc: 0.6888\n",
            "Epoch 50/100\n",
            "500/500 [==============================] - 16s 31ms/step - loss: 0.9793 - acc: 0.6600 - val_loss: 0.8551 - val_acc: 0.7053\n",
            "Epoch 51/100\n",
            "500/500 [==============================] - 15s 31ms/step - loss: 0.9646 - acc: 0.6608 - val_loss: 0.8783 - val_acc: 0.6946\n",
            "Epoch 52/100\n",
            "500/500 [==============================] - 16s 31ms/step - loss: 0.9700 - acc: 0.6603 - val_loss: 0.8201 - val_acc: 0.7146\n",
            "Epoch 53/100\n",
            "500/500 [==============================] - 16s 31ms/step - loss: 0.9598 - acc: 0.6633 - val_loss: 0.8994 - val_acc: 0.6907\n",
            "Epoch 54/100\n",
            "500/500 [==============================] - 16s 31ms/step - loss: 0.9561 - acc: 0.6653 - val_loss: 0.8538 - val_acc: 0.7040\n",
            "Epoch 55/100\n",
            "500/500 [==============================] - 16s 31ms/step - loss: 0.9425 - acc: 0.6724 - val_loss: 0.8376 - val_acc: 0.7088\n",
            "Epoch 56/100\n",
            "500/500 [==============================] - 16s 31ms/step - loss: 0.9320 - acc: 0.6728 - val_loss: 0.8406 - val_acc: 0.7079\n",
            "Epoch 57/100\n",
            "500/500 [==============================] - 16s 31ms/step - loss: 0.9409 - acc: 0.6712 - val_loss: 0.8496 - val_acc: 0.7054\n",
            "Epoch 58/100\n",
            "500/500 [==============================] - 16s 31ms/step - loss: 0.9495 - acc: 0.6701 - val_loss: 0.8990 - val_acc: 0.6911\n",
            "Epoch 59/100\n",
            "500/500 [==============================] - 16s 31ms/step - loss: 0.9289 - acc: 0.6722 - val_loss: 0.8356 - val_acc: 0.7102\n",
            "Epoch 60/100\n",
            "500/500 [==============================] - 16s 31ms/step - loss: 0.9301 - acc: 0.6765 - val_loss: 0.7877 - val_acc: 0.7251\n",
            "Epoch 61/100\n",
            "500/500 [==============================] - 16s 31ms/step - loss: 0.9187 - acc: 0.6781 - val_loss: 0.8470 - val_acc: 0.7051\n",
            "Epoch 62/100\n",
            "500/500 [==============================] - 16s 31ms/step - loss: 0.9322 - acc: 0.6757 - val_loss: 0.8170 - val_acc: 0.7151\n",
            "Epoch 63/100\n",
            "500/500 [==============================] - 16s 31ms/step - loss: 0.9191 - acc: 0.6815 - val_loss: 0.8548 - val_acc: 0.7045\n",
            "Epoch 64/100\n",
            "500/500 [==============================] - 16s 31ms/step - loss: 0.9043 - acc: 0.6853 - val_loss: 0.8236 - val_acc: 0.7197\n",
            "Epoch 65/100\n",
            "500/500 [==============================] - 15s 31ms/step - loss: 0.9251 - acc: 0.6816 - val_loss: 0.7617 - val_acc: 0.7350\n",
            "Epoch 66/100\n",
            "500/500 [==============================] - 16s 31ms/step - loss: 0.9081 - acc: 0.6866 - val_loss: 0.8230 - val_acc: 0.7146\n",
            "Epoch 67/100\n",
            "500/500 [==============================] - 16s 31ms/step - loss: 0.9126 - acc: 0.6834 - val_loss: 0.8404 - val_acc: 0.7126\n",
            "Epoch 68/100\n",
            "500/500 [==============================] - 16s 31ms/step - loss: 0.9016 - acc: 0.6886 - val_loss: 0.7925 - val_acc: 0.7268\n",
            "Epoch 69/100\n",
            "500/500 [==============================] - 16s 31ms/step - loss: 0.9000 - acc: 0.6849 - val_loss: 0.8550 - val_acc: 0.7036\n",
            "Epoch 70/100\n",
            "500/500 [==============================] - 16s 31ms/step - loss: 0.9036 - acc: 0.6918 - val_loss: 0.7812 - val_acc: 0.7274\n",
            "Epoch 71/100\n",
            "500/500 [==============================] - 16s 31ms/step - loss: 0.8988 - acc: 0.6891 - val_loss: 0.7760 - val_acc: 0.7317\n",
            "Epoch 72/100\n",
            "500/500 [==============================] - 15s 31ms/step - loss: 0.8895 - acc: 0.6894 - val_loss: 0.7867 - val_acc: 0.7308\n",
            "Epoch 73/100\n",
            "500/500 [==============================] - 16s 31ms/step - loss: 0.8897 - acc: 0.6917 - val_loss: 0.7966 - val_acc: 0.7223\n",
            "Epoch 74/100\n",
            "500/500 [==============================] - 16s 31ms/step - loss: 0.8840 - acc: 0.6934 - val_loss: 0.7752 - val_acc: 0.7353\n",
            "Epoch 75/100\n",
            "500/500 [==============================] - 15s 31ms/step - loss: 0.8810 - acc: 0.6955 - val_loss: 0.7515 - val_acc: 0.7430\n",
            "Epoch 76/100\n",
            "500/500 [==============================] - 15s 31ms/step - loss: 0.8845 - acc: 0.6938 - val_loss: 0.7980 - val_acc: 0.7257\n",
            "Epoch 77/100\n",
            "500/500 [==============================] - 16s 31ms/step - loss: 0.8826 - acc: 0.6989 - val_loss: 0.7850 - val_acc: 0.7341\n",
            "Epoch 78/100\n",
            "500/500 [==============================] - 15s 31ms/step - loss: 0.8836 - acc: 0.6966 - val_loss: 0.7928 - val_acc: 0.7289\n",
            "Epoch 79/100\n",
            "500/500 [==============================] - 16s 31ms/step - loss: 0.8756 - acc: 0.6974 - val_loss: 0.7548 - val_acc: 0.7371\n",
            "Epoch 80/100\n",
            "500/500 [==============================] - 15s 31ms/step - loss: 0.8647 - acc: 0.7030 - val_loss: 0.7990 - val_acc: 0.7257\n",
            "Epoch 81/100\n",
            "500/500 [==============================] - 16s 31ms/step - loss: 0.8838 - acc: 0.6912 - val_loss: 0.7574 - val_acc: 0.7418\n",
            "Epoch 82/100\n",
            "500/500 [==============================] - 16s 31ms/step - loss: 0.8781 - acc: 0.6998 - val_loss: 0.8144 - val_acc: 0.7208\n",
            "Epoch 83/100\n",
            "500/500 [==============================] - 16s 31ms/step - loss: 0.8675 - acc: 0.6993 - val_loss: 0.7798 - val_acc: 0.7379\n",
            "Epoch 84/100\n",
            "500/500 [==============================] - 16s 31ms/step - loss: 0.8700 - acc: 0.6989 - val_loss: 0.7945 - val_acc: 0.7257\n",
            "Epoch 85/100\n",
            "500/500 [==============================] - 16s 31ms/step - loss: 0.8712 - acc: 0.7023 - val_loss: 0.7900 - val_acc: 0.7355\n",
            "Epoch 86/100\n",
            "500/500 [==============================] - 16s 31ms/step - loss: 0.8627 - acc: 0.6996 - val_loss: 0.7193 - val_acc: 0.7549\n",
            "Epoch 87/100\n",
            "500/500 [==============================] - 16s 32ms/step - loss: 0.8738 - acc: 0.7005 - val_loss: 0.8160 - val_acc: 0.7186\n",
            "Epoch 88/100\n",
            "500/500 [==============================] - 16s 32ms/step - loss: 0.8374 - acc: 0.7113 - val_loss: 0.7722 - val_acc: 0.7392\n",
            "Epoch 89/100\n",
            "500/500 [==============================] - 16s 32ms/step - loss: 0.8548 - acc: 0.7090 - val_loss: 0.7848 - val_acc: 0.7384\n",
            "Epoch 90/100\n",
            "500/500 [==============================] - 16s 32ms/step - loss: 0.8563 - acc: 0.7071 - val_loss: 0.7942 - val_acc: 0.7326\n",
            "Epoch 91/100\n",
            "500/500 [==============================] - 16s 32ms/step - loss: 0.8690 - acc: 0.7008 - val_loss: 0.8087 - val_acc: 0.7252\n",
            "Epoch 92/100\n",
            "500/500 [==============================] - 16s 32ms/step - loss: 0.8485 - acc: 0.7082 - val_loss: 0.7867 - val_acc: 0.7274\n",
            "Epoch 93/100\n",
            "500/500 [==============================] - 16s 32ms/step - loss: 0.8384 - acc: 0.7114 - val_loss: 0.7397 - val_acc: 0.7541\n",
            "Epoch 94/100\n",
            "500/500 [==============================] - 16s 32ms/step - loss: 0.8633 - acc: 0.7067 - val_loss: 0.7328 - val_acc: 0.7493\n",
            "Epoch 95/100\n",
            "500/500 [==============================] - 16s 32ms/step - loss: 0.8543 - acc: 0.7044 - val_loss: 0.8005 - val_acc: 0.7292\n",
            "Epoch 96/100\n",
            "500/500 [==============================] - 16s 32ms/step - loss: 0.8428 - acc: 0.7099 - val_loss: 0.8005 - val_acc: 0.7256\n",
            "Epoch 97/100\n",
            "500/500 [==============================] - 16s 32ms/step - loss: 0.8407 - acc: 0.7110 - val_loss: 0.7500 - val_acc: 0.7443\n",
            "Epoch 98/100\n",
            "500/500 [==============================] - 16s 32ms/step - loss: 0.8428 - acc: 0.7089 - val_loss: 0.7642 - val_acc: 0.7409\n",
            "Epoch 99/100\n",
            "500/500 [==============================] - 16s 32ms/step - loss: 0.8443 - acc: 0.7094 - val_loss: 0.7679 - val_acc: 0.7453\n",
            "Epoch 100/100\n",
            "500/500 [==============================] - 16s 32ms/step - loss: 0.8513 - acc: 0.7078 - val_loss: 0.7155 - val_acc: 0.7594\n"
          ],
          "name": "stdout"
        }
      ]
    },
    {
      "metadata": {
        "id": "XJOMRBtc-r77",
        "colab_type": "code",
        "colab": {
          "base_uri": "https://localhost:8080/",
          "height": 34
        },
        "outputId": "cfcba810-9b76-483d-a9d5-02cd669e0f58"
      },
      "cell_type": "code",
      "source": [
        "# Save model and weights\n",
        "if not os.path.isdir(save_dir):\n",
        "    os.makedirs(save_dir)\n",
        "model_path = os.path.join(save_dir, model_name)\n",
        "model.save(model_path)\n",
        "print('Saved trained model at %s ' % model_path)"
      ],
      "execution_count": 10,
      "outputs": [
        {
          "output_type": "stream",
          "text": [
            "Saved trained model at /content/saved_models/keras_cifar10_trained_model.h5 \n"
          ],
          "name": "stdout"
        }
      ]
    },
    {
      "metadata": {
        "id": "yidaCcOb-uh4",
        "colab_type": "code",
        "colab": {
          "base_uri": "https://localhost:8080/",
          "height": 67
        },
        "outputId": "dd42c722-4a0e-4f61-fa70-46e1b82593b1"
      },
      "cell_type": "code",
      "source": [
        "# Score trained model.\n",
        "scores = model.evaluate(x_test, y_test, verbose=1)\n",
        "print('Test loss:', scores[0])\n",
        "print('Test accuracy:', scores[1])"
      ],
      "execution_count": 40,
      "outputs": [
        {
          "output_type": "stream",
          "text": [
            "10000/10000 [==============================] - 1s 149us/step\n",
            "Test loss: 0.715476643371582\n",
            "Test accuracy: 0.7594\n"
          ],
          "name": "stdout"
        }
      ]
    },
    {
      "metadata": {
        "id": "482m3sCLFL5Y",
        "colab_type": "code",
        "colab": {
          "base_uri": "https://localhost:8080/",
          "height": 308
        },
        "outputId": "58c8bc51-5e39-4232-d919-6d8d66368a39"
      },
      "cell_type": "code",
      "source": [
        "import matplotlib.pyplot as plt\n",
        "# summarize history for accuracy\n",
        "f = plt.figure(figsize=(15, 4))\n",
        "f.add_subplot(1,2, 1)\n",
        "plt.plot(model.history.history['acc'])\n",
        "plt.plot(model.history.history['val_acc'])\n",
        "plt.title(\"Model accuracy\\nWith Both Batch Normalization and Noise Layer\")\n",
        "plt.ylabel('accuracy')\n",
        "plt.xlabel('epoch')\n",
        "plt.legend(['train', 'test'], loc='upper left')\n",
        "# summarize history for loss\n",
        "f.add_subplot(1,2, 2)\n",
        "plt.plot(model.history.history['loss'])\n",
        "plt.plot(model.history.history['val_loss'])\n",
        "plt.title('Model loss\\nWith Both Batch Normalization and Noise Layer')\n",
        "plt.ylabel('loss')\n",
        "plt.xlabel('epoch')\n",
        "plt.legend(['train', 'test'], loc='upper left')\n",
        "plt.show();"
      ],
      "execution_count": 42,
      "outputs": [
        {
          "output_type": "display_data",
          "data": {
            "image/png": "[encoded data removed]",
            "text/plain": [
              "<Figure size 1080x288 with 2 Axes>"
            ]
          },
          "metadata": {
            "tags": []
          }
        }
      ]
    }
  ]
}